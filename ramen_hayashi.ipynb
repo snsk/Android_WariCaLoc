{
  "nbformat": 4,
  "nbformat_minor": 0,
  "metadata": {
    "colab": {
      "name": "ramen_hayashi.ipynb",
      "provenance": [],
      "collapsed_sections": [
        "MO1WB3Jy-nGw"
      ],
      "mount_file_id": "15zubguWAN_l3xsQa377LOrNDNRHKqOZp",
      "authorship_tag": "ABX9TyMmbegAbZFuvSAWk5nZ6i6+",
      "include_colab_link": true
    },
    "kernelspec": {
      "name": "python3",
      "display_name": "Python 3"
    },
    "language_info": {
      "name": "python"
    }
  },
  "cells": [
    {
      "cell_type": "markdown",
      "metadata": {
        "id": "view-in-github",
        "colab_type": "text"
      },
      "source": [
        "<a href=\"https://colab.research.google.com/github/snsk/Android_WariCaLoc/blob/master/ramen_hayashi.ipynb\" target=\"_parent\"><img src=\"https://colab.research.google.com/assets/colab-badge.svg\" alt=\"Open In Colab\"/></a>"
      ]
    },
    {
      "cell_type": "code",
      "metadata": {
        "colab": {
          "base_uri": "https://localhost:8080/",
          "height": 295
        },
        "id": "cwC1HfVnohpT",
        "outputId": "a960c28b-8e1b-4502-9b6f-2eca801666f1"
      },
      "source": [
        "import cv2\n",
        "import numpy as np\n",
        "from google.colab.patches import cv2_imshow\n",
        "\n",
        "colab_root = '/content/drive/MyDrive/colab_root/'\n",
        "metamorphic_images_store = '/content/drive/MyDrive/colab_root/metamorphic_images/'\n",
        "src_image_filname = 'hiyashi_3.jpg'\n",
        "\n",
        "img = cv2.imread(colab_root + src_image_filname,1)\n",
        "rows,cols = img.shape[:-1]\n",
        "\n",
        "for i in range(1, 100):\n",
        "  #画像を回転させて背景を白で塗りつぶす\n",
        "  M = np.float32([[1,0,i * 10],[0,1,0]])\n",
        "  dst = cv2.warpAffine(img,M,(cols,rows),borderValue=(255, 255, 255))\n",
        "  #cv2_imshow(dst)\n",
        "  cv2.imwrite(metamorphic_images_store + 'T'+ str(i*10) + '_'+ src_image_filname, dst)\n",
        "\n",
        "import numpy as np\n",
        "import matplotlib.pyplot as plt\n",
        "from keras.preprocessing import image\n",
        "from keras.models import load_model\n",
        "from keras.preprocessing.image import img_to_array, load_img\n",
        "import pprint\n",
        "\n",
        "# modelの読み込み\n",
        "model = load_model(colab_root + 'ramen_hiyashi_acc0.9675.h5')\n",
        "# 正解ラベルの定義\n",
        "label=['ramen', 'hiyashi']\n",
        "x=[]\n",
        "y=[]\n",
        "\n",
        "for i in range(1, 100):\n",
        "  # 画像を読み込む。\n",
        "  img = image.load_img(metamorphic_images_store + 'T'+ str(i*10) + '_'+ src_image_filname, target_size=(100,100))\n",
        "  img_nad = img_to_array(img)/255\n",
        "  img_nad = img_nad[None, ...]\n",
        "\n",
        "  # 判別\n",
        "  pred = model.predict(img_nad, batch_size=1, verbose=0)\n",
        "  score = np.max(pred)\n",
        "  pred_label = label[np.argmax(pred[0])]\n",
        "  #print('src:R',str(i*10),'name:',pred_label,'score:',score)\n",
        "  if pred_label == 'ramen': #誤判定の場合はスコアを0に\n",
        "    score = 0\n",
        "  x.append(i*10)\n",
        "  y.append(score)\n",
        "\n",
        "import matplotlib.pyplot as plt\n",
        "\n",
        "plt.plot(x,y,label=\"acc\")\n",
        "plt.title('test result - translation')\n",
        "plt.xlabel('translation x value')\n",
        "plt.ylabel('accuracy')\n",
        "plt.grid(True)\n",
        "plt.legend()\n",
        "plt.show()\n"
      ],
      "execution_count": 45,
      "outputs": [
        {
          "output_type": "display_data",
          "data": {
            "image/png": "[encoded data removed]",
            "text/plain": [
              "<Figure size 432x288 with 1 Axes>"
            ]
          },
          "metadata": {
            "tags": [],
            "needs_background": "light"
          }
        }
      ]
    },
    {
      "cell_type": "markdown",
      "metadata": {
        "id": "uLKR6_efYN8o"
      },
      "source": [
        "# メタモルフィックテスティング:回転"
      ]
    },
    {
      "cell_type": "code",
      "metadata": {
        "colab": {
          "base_uri": "https://localhost:8080/",
          "height": 295
        },
        "id": "rftzfi_jYbL0",
        "outputId": "a24092af-f479-47ac-c703-f9bb03ca317f"
      },
      "source": [
        "import cv2\n",
        "from google.colab.patches import cv2_imshow\n",
        "\n",
        "colab_root = '/content/drive/MyDrive/colab_root/'\n",
        "metamorphic_images_store = '/content/drive/MyDrive/colab_root/metamorphic_images/'\n",
        "src_image_filname = 'hiyashi_3.jpg'\n",
        "\n",
        "img = cv2.imread(colab_root + src_image_filname,1)\n",
        "rows,cols = img.shape[:-1]\n",
        "\n",
        "for i in range(1, 37):\n",
        "  #画像を回転させて背景を白で塗りつぶす\n",
        "  M = cv2.getRotationMatrix2D((cols/2,rows/2), i * 10, 1)\n",
        "  dst = cv2.warpAffine(img,M,(cols,rows),borderValue=(255, 255, 255))\n",
        "  #cv2_imshow(dst)\n",
        "  cv2.imwrite(metamorphic_images_store + 'R'+ str(i*10) + '_'+ src_image_filname, dst)\n",
        "\n",
        "import numpy as np\n",
        "import matplotlib.pyplot as plt\n",
        "from keras.preprocessing import image\n",
        "from keras.models import load_model\n",
        "from keras.preprocessing.image import img_to_array, load_img\n",
        "import pprint\n",
        "\n",
        "# modelの読み込み\n",
        "model = load_model(colab_root + 'ramen_hiyashi_acc0.9675.h5')\n",
        "# 正解ラベルの定義\n",
        "label=['ramen', 'hiyashi']\n",
        "x=[]\n",
        "y=[]\n",
        "\n",
        "for i in range(1, 37):\n",
        "  # 画像を読み込む。\n",
        "  img = image.load_img(metamorphic_images_store + 'R'+ str(i*10) + '_'+ src_image_filname, target_size=(100,100))\n",
        "  img_nad = img_to_array(img)/255\n",
        "  img_nad = img_nad[None, ...]\n",
        "\n",
        "  # 判別\n",
        "  pred = model.predict(img_nad, batch_size=1, verbose=0)\n",
        "  score = np.max(pred)\n",
        "  pred_label = label[np.argmax(pred[0])]\n",
        "  #print('src:R',str(i*10),'name:',pred_label,'score:',score)\n",
        "  if pred_label == 'ramen': #誤判定の場合はスコアを0に\n",
        "    score = 0\n",
        "  x.append(i*10)\n",
        "  y.append(score)\n",
        "\n",
        "import matplotlib.pyplot as plt\n",
        "\n",
        "plt.plot(x,y,label=\"acc\")\n",
        "plt.title('test result - rotation')\n",
        "plt.xlabel('degree of rotation')\n",
        "plt.ylabel('accuracy')\n",
        "plt.grid(True)\n",
        "plt.legend()\n",
        "plt.show()\n"
      ],
      "execution_count": 40,
      "outputs": [
        {
          "output_type": "display_data",
          "data": {
            "image/png": "[encoded data removed]",
            "text/plain": [
              "<Figure size 432x288 with 1 Axes>"
            ]
          },
          "metadata": {
            "tags": [],
            "needs_background": "light"
          }
        }
      ]
    },
    {
      "cell_type": "markdown",
      "metadata": {
        "id": "MO1WB3Jy-nGw"
      },
      "source": [
        "# 画像1枚から回転360度=36枚を作成して保存"
      ]
    },
    {
      "cell_type": "code",
      "metadata": {
        "id": "Rws0RyCB-219"
      },
      "source": [
        "import cv2\n",
        "from google.colab.patches import cv2_imshow\n",
        "\n",
        "colab_root = '/content/drive/MyDrive/colab_root/'\n",
        "metamorphic_images_store = '/content/drive/MyDrive/colab_root/metamorphic_images/'\n",
        "src_image_filname = 'hiyashi_3.jpg'\n",
        "\n",
        "img = cv2.imread(colab_root + src_image_filname,1)\n",
        "rows,cols = img.shape[:-1]\n",
        "\n",
        "for i in range(1, 5):\n",
        "  #画像を回転させて背景を白で塗りつぶす\n",
        "  M = cv2.getRotationMatrix2D((cols/2,rows/2), i * 10, 1)\n",
        "  dst = cv2.warpAffine(img,M,(cols,rows),borderValue=(255, 255, 255))\n",
        "  cv2_imshow(dst)\n",
        "  cv2.imwrite(metamorphic_images_store + 'R'+ str(i*10) + '_'+ src_image_filname, dst)\n"
      ],
      "execution_count": null,
      "outputs": []
    },
    {
      "cell_type": "markdown",
      "metadata": {
        "id": "YjEMSfl-6vK_"
      },
      "source": [
        "# 画像変形した1枚を判定"
      ]
    },
    {
      "cell_type": "code",
      "metadata": {
        "colab": {
          "base_uri": "https://localhost:8080/"
        },
        "id": "GtzlmVc960kM",
        "outputId": "9616b127-de52-47a2-bafb-d4468efa6450"
      },
      "source": [
        "import numpy as np\n",
        "import matplotlib.pyplot as plt\n",
        "from keras.preprocessing import image\n",
        "from keras.models import load_model\n",
        "from keras.preprocessing.image import img_to_array, load_img\n",
        "import pprint\n",
        "\n",
        "colab_root = '/content/drive/MyDrive/colab_root/'\n",
        "\n",
        "# 画像を読み込む。\n",
        "img = image.load_img(colab_root+'hiyashi_3.jpg',  target_size=(100,100))\n",
        "img = np.array(img)\n",
        "\n",
        "#plt.imshow(img)\n",
        "#plt.show()\n",
        "\n",
        "# flow に渡すために配列を四次元化\n",
        "img = img[None, ...]\n",
        "\n",
        "# 画像変形のジェネレータを作成\n",
        "datagen = image.ImageDataGenerator(rotation_range=0)\n",
        "gen = datagen.flow(img, batch_size = 1)\n",
        "\n",
        "# バッチの実行\n",
        "batches = next(gen)\n",
        "g_img = batches[0]/255\n",
        "g_img = g_img[None, ...]\n",
        "\n",
        "# modelの読み込み\n",
        "model = load_model(colab_root + 'ramen_hiyashi_acc0.9675.h5')\n",
        "# 正解ラベルの定義\n",
        "label=['ramen', 'hiyashi']\n",
        "\n",
        "# 判別\n",
        "pred = model.predict(g_img, batch_size=1, verbose=0)\n",
        "score = np.max(pred)\n",
        "pred_label = label[np.argmax(pred[0])]\n",
        "print('name:',pred_label)\n",
        "print('score:',score)\n"
      ],
      "execution_count": 8,
      "outputs": [
        {
          "output_type": "stream",
          "text": [
            "name: hiyashi\n",
            "score: 0.9987631\n"
          ],
          "name": "stdout"
        }
      ]
    },
    {
      "cell_type": "markdown",
      "metadata": {
        "id": "l5yo8NS6ECqT"
      },
      "source": [
        "# keras の画像変形を試す\n"
      ]
    },
    {
      "cell_type": "code",
      "metadata": {
        "id": "vtey08KRECWj"
      },
      "source": [
        "import numpy as np\n",
        "import matplotlib.pyplot as plt\n",
        "from keras.preprocessing import image\n",
        "\n",
        "colab_root = '/content/drive/MyDrive/colab_root/'\n",
        "\n",
        "# 画像を読み込む。\n",
        "img = image.load_img(colab_root+'ramen_1.jpg')\n",
        "img = np.array(img)\n",
        "\n",
        "plt.imshow(img)\n",
        "plt.show()\n",
        "\n",
        "# flow に渡すために配列を四次元化\n",
        "img = img[None, ...]\n",
        "\n",
        "# 画像変形のジェネレータを作成\n",
        "datagen = image.ImageDataGenerator(rotation_range=50)\n",
        "gen = datagen.flow(img, batch_size = 1)\n",
        "\n",
        "# バッチの実行\n",
        "batches = next(gen)\n",
        "# 画像として表示するためにuint8に変換\n",
        "g_img = batches[0].astype(np.uint8)\n",
        "\n",
        "plt.imshow(g_img)\n",
        "plt.show()\n"
      ],
      "execution_count": null,
      "outputs": []
    },
    {
      "cell_type": "markdown",
      "metadata": {
        "id": "GOcH73LJ-Ca9"
      },
      "source": [
        "#2種類の画像を識別するモデル"
      ]
    },
    {
      "cell_type": "code",
      "metadata": {
        "id": "JZOAZidS6GVy"
      },
      "source": [
        "import keras\n",
        "from keras.utils.vis_utils import plot_model\n",
        "from keras.utils import np_utils\n",
        "from keras.models import Sequential\n",
        "from keras.layers import Dense, Dropout, Activation\n",
        "from keras.optimizers import SGD\n",
        "from keras.models import Sequential\n",
        "from keras.layers.convolutional import Conv2D, MaxPooling2D\n",
        "from keras.layers.core import Dense, Dropout, Activation, Flatten\n",
        "import numpy as np\n",
        "from sklearn.model_selection import train_test_split\n",
        "from PIL import Image\n",
        "import glob\n",
        "\n",
        "folder = [\"currypan\",\"piroshik\"]\n",
        "image_size = 100\n",
        "X = []\n",
        "Y = []\n",
        "for index, name in enumerate(folder):\n",
        "    dir = \"/content/drive/MyDrive/colab_root/\" + name\n",
        "    files = glob.glob(dir + \"/*.jpg\")\n",
        "    for i, file in enumerate(files):\n",
        "        image = Image.open(file)\n",
        "        image = image.convert(\"RGB\")\n",
        "        image = image.resize((image_size, image_size))\n",
        "        data = np.asarray(image)\n",
        "        X.append(data)\n",
        "        Y.append(index)\n",
        "\n",
        "X = np.array(X)\n",
        "Y = np.array(Y)\n",
        "\n",
        "X = X.astype('float32')\n",
        "X = X / 255.0\n",
        "\n",
        "# 正解ラベルの形式を変換\n",
        "Y = np_utils.to_categorical(Y, 2)\n",
        "\n",
        "# 学習用データとテストデータ\n",
        "X_train, X_test, Y_train, Y_test = train_test_split(X, Y, test_size=0.20)\n",
        "'''\n",
        "X_train:訓練用入力データ\n",
        "X_test :訓練用正解データ\n",
        "Y_train:評価用入力データ\n",
        "Y_test :評価用正解データ\n",
        "'''\n",
        "\n",
        "# CNNを構築\n",
        "# Sequentialモデルは addされたモデル層が一列に並ぶ\n",
        "model = Sequential()\n",
        "\n",
        "#Conv2D:2次元畳み込み層 3x3のパネルを32枚使う。padding='same' で出力画像のサイズが変わらないようにする\n",
        "model.add(Conv2D(32, (3, 3), padding='same',input_shape=X_train.shape[1:], activation='relu'))\n",
        "model.add(Conv2D(32, (3, 3), activation='relu'))\n",
        "model.add(MaxPooling2D(pool_size=(2, 2)))\n",
        "model.add(Dropout(0.5))\n",
        "\n",
        "model.add(Conv2D(64, (3, 3), padding='same', activation='relu'))\n",
        "model.add(Conv2D(64, (3, 3), activation='relu'))\n",
        "model.add(MaxPooling2D(pool_size=(2, 2)))\n",
        "model.add(Dropout(0.5))\n",
        "\n",
        "model.add(Flatten())\n",
        "model.add(Dense(512, activation='relu'))\n",
        "model.add(Dropout(0.5))\n",
        "model.add(Dense(2, activation='softmax'))\n",
        "\n",
        "#モデルのコンパイル\n",
        "model.compile(\n",
        "    loss='categorical_crossentropy',\n",
        "    optimizer='sgd',\n",
        "    metrics=['accuracy']\n",
        ")\n",
        "\n",
        "#モデルの訓練\n",
        "epochs_num=500\n",
        "result = model.fit(X_train, Y_train, epochs=epochs_num, validation_data=(X_test, Y_test))\n",
        "\n",
        "#modelのビジュアル可視化。要install and PATH setting GraphViz, pydot\n",
        "#functional API を利用した複雑なモデルの時はこちら\n",
        "plot_model(model, to_file='./model.png', show_shapes=True, expand_nested=True)\n",
        "#modelのテキスト可視化。Sequentialモデルならこれでも十分、らしい\n",
        "#print(model.summary())\n",
        "\n",
        "#model.save('ramen_hiyashi.h5')\n",
        "\n",
        "import matplotlib.pyplot as plt\n",
        " \n",
        "plt.plot(range(1, epochs_num+1), result.history['accuracy'], label=\"training\")\n",
        "plt.plot(range(1, epochs_num+1), result.history['val_accuracy'], label=\"validation\")\n",
        "plt.xlabel('Epochs')\n",
        "plt.ylabel('Accuracy')\n",
        "plt.legend()\n",
        "plt.show()\n",
        "\n",
        "#評価 & 評価結果出力\n",
        "print(model.evaluate(X_test, Y_test))\n",
        "print('Test:')\n",
        "test_loss, test_acc = model.evaluate(X_test, Y_test, verbose=1)\n",
        "print('\\nTest accuracy:', test_acc)"
      ],
      "execution_count": null,
      "outputs": []
    },
    {
      "cell_type": "markdown",
      "metadata": {
        "id": "MhYxElk3dQYt"
      },
      "source": [
        "# 構築済みのモデルを使う\n",
        "\n"
      ]
    },
    {
      "cell_type": "code",
      "metadata": {
        "colab": {
          "base_uri": "https://localhost:8080/"
        },
        "id": "suH0mx8pdPsM",
        "outputId": "dd9b73f5-1554-46fe-da63-ebe1113dfc05"
      },
      "source": [
        "from keras.models import load_model\n",
        "import numpy as np\n",
        "from keras.preprocessing.image import img_to_array, load_img\n",
        "\n",
        "colab_root = '/content/drive/MyDrive/colab_root/'\n",
        "\n",
        "# modelと画像ファイルの読み込み\n",
        "model = load_model(colab_root + 'ramen_hiyashi_acc0.9675.h5')\n",
        "\n",
        "# 画像ファイルの行列変換\n",
        "img = img_to_array(load_img(colab_root + 'ramen_2.jpg', target_size=(100,100)))\n",
        "img_nad = img_to_array(img)/255\n",
        "img_nad = img_nad[None, ...]\n",
        "\n",
        "# 正解ラベルの定義\n",
        "label=['ramen', 'hiyashi']\n",
        "\n",
        "# 判別\n",
        "pred = model.predict(img_nad, batch_size=1, verbose=0)\n",
        "print(pred)\n",
        "score = np.max(pred)\n",
        "pred_label = label[np.argmax(pred[0])]\n",
        "print('name:',pred_label)\n",
        "print('score:',score)"
      ],
      "execution_count": null,
      "outputs": [
        {
          "output_type": "stream",
          "text": [
            "[[0.7606613  0.23933864]]\n",
            "name: ramen\n",
            "score: 0.7606613\n"
          ],
          "name": "stdout"
        }
      ]
    },
    {
      "cell_type": "markdown",
      "metadata": {
        "id": "ebw76r-VdeXP"
      },
      "source": [
        "\n",
        "# np_arrayとimg_nad の動作確認"
      ]
    },
    {
      "cell_type": "code",
      "metadata": {
        "id": "Vc8ncqV8GWxL"
      },
      "source": [
        "from keras.models import load_model\n",
        "import numpy as np\n",
        "from keras.preprocessing.image import img_to_array, load_img\n",
        "import pprint\n",
        "\n",
        "colab_root = '/content/drive/MyDrive/colab_root/'\n",
        "\n",
        "# modelと画像ファイルの読み込み\n",
        "model = load_model(colab_root + 'ramen_hiyashi_acc0.9675.h5')\n",
        "\n",
        "# 画像ファイルの行列変換\n",
        "img = img_to_array(load_img(colab_root + 'ramen_2.jpg', target_size=(100,100)))\n",
        "img_nad = img_to_array(img)/255\n",
        "img_nad = img_nad[None, ...]\n",
        "pprint.pprint(img_nad)"
      ],
      "execution_count": null,
      "outputs": []
    },
    {
      "cell_type": "markdown",
      "metadata": {
        "id": "m2IaBmxRB34A"
      },
      "source": [
        "# colab sandbox"
      ]
    },
    {
      "cell_type": "code",
      "metadata": {
        "colab": {
          "base_uri": "https://localhost:8080/"
        },
        "id": "ytiPvLKWB9jK",
        "outputId": "ebce55b2-dab4-42c5-c561-f974796aa60a"
      },
      "source": [
        "!python -V"
      ],
      "execution_count": null,
      "outputs": [
        {
          "output_type": "stream",
          "text": [
            "Python 3.7.11\n"
          ],
          "name": "stdout"
        }
      ]
    }
  ]
}